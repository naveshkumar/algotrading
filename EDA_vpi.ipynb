{
 "cells": [
  {
   "cell_type": "markdown",
   "metadata": {},
   "source": [
    "# Exploratory Data Analysis\n",
    "#### Author : Navesh Kumar\n",
    "#### Date : 21 Oct 2024"
   ]
  },
  {
   "cell_type": "code",
   "execution_count": 7,
   "metadata": {},
   "outputs": [],
   "source": [
    "# specifying the location of the files\n",
    "source_path = 'D:/vpi/intraday_orderbook_snapshots/intraday_orderbook_snapshots'"
   ]
  },
  {
   "cell_type": "code",
   "execution_count": 2,
   "metadata": {},
   "outputs": [],
   "source": [
    "# Using below Libraries for analysis and visualisation\n",
    "import pandas as pd"
   ]
  },
  {
   "cell_type": "code",
   "execution_count": 8,
   "metadata": {},
   "outputs": [],
   "source": [
    "# read a file to understand the structure of the file\n",
    "sample_file_path = f'{source_path}/snapshot_2022_1_1_0_0_0.parquet'\n",
    "sample = pd.read_parquet(sample_file_path)"
   ]
  },
  {
   "cell_type": "code",
   "execution_count": 15,
   "metadata": {},
   "outputs": [
    {
     "name": "stdout",
     "output_type": "stream",
     "text": [
      "<class 'pandas.core.frame.DataFrame'>\n",
      "RangeIndex: 607 entries, 0 to 606\n",
      "Data columns (total 7 columns):\n",
      " #   Column         Non-Null Count  Dtype              \n",
      "---  ------         --------------  -----              \n",
      " 0   DeliveryStart  607 non-null    datetime64[ns, UTC]\n",
      " 1   Product        607 non-null    object             \n",
      " 2   BQty           607 non-null    float64            \n",
      " 3   Bid            607 non-null    object             \n",
      " 4   Ask            607 non-null    object             \n",
      " 5   AQty           607 non-null    float64            \n",
      " 6   Level          607 non-null    int64              \n",
      "dtypes: datetime64[ns, UTC](1), float64(2), int64(1), object(3)\n",
      "memory usage: 33.3+ KB\n",
      "None\n",
      "              DeliveryStart                Product  BQty     Bid    Ask  AQty  \\\n",
      "0 2023-01-01 00:15:00+00:00  Intraday_Quarter_Hour   4.3   -7.98   1.86  24.2   \n",
      "1 2023-01-01 00:15:00+00:00  Intraday_Quarter_Hour   8.8  -10.90   5.00  24.3   \n",
      "2 2023-01-01 00:15:00+00:00  Intraday_Quarter_Hour   0.8  -18.00  11.90   0.1   \n",
      "3 2023-01-01 00:15:00+00:00  Intraday_Quarter_Hour   4.5  -22.10  15.45   1.2   \n",
      "4 2023-01-01 00:15:00+00:00  Intraday_Quarter_Hour   1.0  -29.06  21.64   1.0   \n",
      "\n",
      "   Level  \n",
      "0      1  \n",
      "1      2  \n",
      "2      3  \n",
      "3      4  \n",
      "4      5  \n"
     ]
    }
   ],
   "source": [
    "print(sample.info())\n",
    "print(sample.head())"
   ]
  },
  {
   "cell_type": "markdown",
   "metadata": {},
   "source": [
    "#### Data Structure and Domain understanding\n",
    "The file is a snapshot at a timestamp as noted by the file name </n>\n",
    "</n>\n",
    "Columns\n",
    "</n>\n",
    "1. DeliveryStart: Identifies the delivery time of the product </n>\n",
    "2. Product : given Xbid market in the EU; these are the HH, QH and H blocks identifiers</n>\n",
    "3. BQty : Bid volume</n>\n",
    "4. Bid</n>\n",
    "5. AQty: Offer Volume</n>\n",
    "6. Ask: Offer</n>\n",
    "7. Level : repeating 1 to 5: unknown relevance</n>"
   ]
  },
  {
   "cell_type": "markdown",
   "metadata": {},
   "source": [
    "### Plan for Analysing the data\n",
    "Since the data is available in timestamps, the continuity of the ticker is lost.\n",
    "To understand the nature of the trading and really gain insight the data needs to be made available at a product level, for a unique product\n",
    "\n",
    "get a file \n",
    "filter product\n",
    "filter delivery area\n",
    "\n",
    "delivery to product mappiung\n"
   ]
  }
 ],
 "metadata": {
  "kernelspec": {
   "display_name": "Python 3",
   "language": "python",
   "name": "python3"
  },
  "language_info": {
   "codemirror_mode": {
    "name": "ipython",
    "version": 3
   },
   "file_extension": ".py",
   "mimetype": "text/x-python",
   "name": "python",
   "nbconvert_exporter": "python",
   "pygments_lexer": "ipython3",
   "version": "3.10.4"
  }
 },
 "nbformat": 4,
 "nbformat_minor": 2
}
